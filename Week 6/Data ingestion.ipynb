{
  "nbformat": 4,
  "nbformat_minor": 0,
  "metadata": {
    "colab": {
      "provenance": []
    },
    "kernelspec": {
      "name": "python3",
      "display_name": "Python 3"
    },
    "language_info": {
      "name": "python"
    }
  },
  "cells": [
    {
      "cell_type": "code",
      "metadata": {
        "id": "pMdEUyh15f2C"
      },
      "source": [
        "! pip install -q kaggle"
      ],
      "execution_count": 4,
      "outputs": []
    },
    {
      "cell_type": "code",
      "metadata": {
        "id": "k6UukcoR99qe"
      },
      "source": [
        "\n",
        "import pandas as pd\n",
        "from IPython.display import YouTubeVideo"
      ],
      "execution_count": 5,
      "outputs": []
    },
    {
      "cell_type": "code",
      "metadata": {
        "colab": {
          "base_uri": "https://localhost:8080/",
          "height": 92
        },
        "id": "RLZfKHol5ldL",
        "outputId": "74d487c4-01a4-4bf1-bb38-683c4c3b65e8"
      },
      "source": [
        "from google.colab import files\n",
        "files.upload()"
      ],
      "execution_count": 7,
      "outputs": [
        {
          "output_type": "display_data",
          "data": {
            "text/plain": [
              "<IPython.core.display.HTML object>"
            ],
            "text/html": [
              "\n",
              "     <input type=\"file\" id=\"files-2e69bb60-956e-4089-94a1-f83420e69fb9\" name=\"files[]\" multiple disabled\n",
              "        style=\"border:none\" />\n",
              "     <output id=\"result-2e69bb60-956e-4089-94a1-f83420e69fb9\">\n",
              "      Upload widget is only available when the cell has been executed in the\n",
              "      current browser session. Please rerun this cell to enable.\n",
              "      </output>\n",
              "      <script>// Copyright 2017 Google LLC\n",
              "//\n",
              "// Licensed under the Apache License, Version 2.0 (the \"License\");\n",
              "// you may not use this file except in compliance with the License.\n",
              "// You may obtain a copy of the License at\n",
              "//\n",
              "//      http://www.apache.org/licenses/LICENSE-2.0\n",
              "//\n",
              "// Unless required by applicable law or agreed to in writing, software\n",
              "// distributed under the License is distributed on an \"AS IS\" BASIS,\n",
              "// WITHOUT WARRANTIES OR CONDITIONS OF ANY KIND, either express or implied.\n",
              "// See the License for the specific language governing permissions and\n",
              "// limitations under the License.\n",
              "\n",
              "/**\n",
              " * @fileoverview Helpers for google.colab Python module.\n",
              " */\n",
              "(function(scope) {\n",
              "function span(text, styleAttributes = {}) {\n",
              "  const element = document.createElement('span');\n",
              "  element.textContent = text;\n",
              "  for (const key of Object.keys(styleAttributes)) {\n",
              "    element.style[key] = styleAttributes[key];\n",
              "  }\n",
              "  return element;\n",
              "}\n",
              "\n",
              "// Max number of bytes which will be uploaded at a time.\n",
              "const MAX_PAYLOAD_SIZE = 100 * 1024;\n",
              "\n",
              "function _uploadFiles(inputId, outputId) {\n",
              "  const steps = uploadFilesStep(inputId, outputId);\n",
              "  const outputElement = document.getElementById(outputId);\n",
              "  // Cache steps on the outputElement to make it available for the next call\n",
              "  // to uploadFilesContinue from Python.\n",
              "  outputElement.steps = steps;\n",
              "\n",
              "  return _uploadFilesContinue(outputId);\n",
              "}\n",
              "\n",
              "// This is roughly an async generator (not supported in the browser yet),\n",
              "// where there are multiple asynchronous steps and the Python side is going\n",
              "// to poll for completion of each step.\n",
              "// This uses a Promise to block the python side on completion of each step,\n",
              "// then passes the result of the previous step as the input to the next step.\n",
              "function _uploadFilesContinue(outputId) {\n",
              "  const outputElement = document.getElementById(outputId);\n",
              "  const steps = outputElement.steps;\n",
              "\n",
              "  const next = steps.next(outputElement.lastPromiseValue);\n",
              "  return Promise.resolve(next.value.promise).then((value) => {\n",
              "    // Cache the last promise value to make it available to the next\n",
              "    // step of the generator.\n",
              "    outputElement.lastPromiseValue = value;\n",
              "    return next.value.response;\n",
              "  });\n",
              "}\n",
              "\n",
              "/**\n",
              " * Generator function which is called between each async step of the upload\n",
              " * process.\n",
              " * @param {string} inputId Element ID of the input file picker element.\n",
              " * @param {string} outputId Element ID of the output display.\n",
              " * @return {!Iterable<!Object>} Iterable of next steps.\n",
              " */\n",
              "function* uploadFilesStep(inputId, outputId) {\n",
              "  const inputElement = document.getElementById(inputId);\n",
              "  inputElement.disabled = false;\n",
              "\n",
              "  const outputElement = document.getElementById(outputId);\n",
              "  outputElement.innerHTML = '';\n",
              "\n",
              "  const pickedPromise = new Promise((resolve) => {\n",
              "    inputElement.addEventListener('change', (e) => {\n",
              "      resolve(e.target.files);\n",
              "    });\n",
              "  });\n",
              "\n",
              "  const cancel = document.createElement('button');\n",
              "  inputElement.parentElement.appendChild(cancel);\n",
              "  cancel.textContent = 'Cancel upload';\n",
              "  const cancelPromise = new Promise((resolve) => {\n",
              "    cancel.onclick = () => {\n",
              "      resolve(null);\n",
              "    };\n",
              "  });\n",
              "\n",
              "  // Wait for the user to pick the files.\n",
              "  const files = yield {\n",
              "    promise: Promise.race([pickedPromise, cancelPromise]),\n",
              "    response: {\n",
              "      action: 'starting',\n",
              "    }\n",
              "  };\n",
              "\n",
              "  cancel.remove();\n",
              "\n",
              "  // Disable the input element since further picks are not allowed.\n",
              "  inputElement.disabled = true;\n",
              "\n",
              "  if (!files) {\n",
              "    return {\n",
              "      response: {\n",
              "        action: 'complete',\n",
              "      }\n",
              "    };\n",
              "  }\n",
              "\n",
              "  for (const file of files) {\n",
              "    const li = document.createElement('li');\n",
              "    li.append(span(file.name, {fontWeight: 'bold'}));\n",
              "    li.append(span(\n",
              "        `(${file.type || 'n/a'}) - ${file.size} bytes, ` +\n",
              "        `last modified: ${\n",
              "            file.lastModifiedDate ? file.lastModifiedDate.toLocaleDateString() :\n",
              "                                    'n/a'} - `));\n",
              "    const percent = span('0% done');\n",
              "    li.appendChild(percent);\n",
              "\n",
              "    outputElement.appendChild(li);\n",
              "\n",
              "    const fileDataPromise = new Promise((resolve) => {\n",
              "      const reader = new FileReader();\n",
              "      reader.onload = (e) => {\n",
              "        resolve(e.target.result);\n",
              "      };\n",
              "      reader.readAsArrayBuffer(file);\n",
              "    });\n",
              "    // Wait for the data to be ready.\n",
              "    let fileData = yield {\n",
              "      promise: fileDataPromise,\n",
              "      response: {\n",
              "        action: 'continue',\n",
              "      }\n",
              "    };\n",
              "\n",
              "    // Use a chunked sending to avoid message size limits. See b/62115660.\n",
              "    let position = 0;\n",
              "    do {\n",
              "      const length = Math.min(fileData.byteLength - position, MAX_PAYLOAD_SIZE);\n",
              "      const chunk = new Uint8Array(fileData, position, length);\n",
              "      position += length;\n",
              "\n",
              "      const base64 = btoa(String.fromCharCode.apply(null, chunk));\n",
              "      yield {\n",
              "        response: {\n",
              "          action: 'append',\n",
              "          file: file.name,\n",
              "          data: base64,\n",
              "        },\n",
              "      };\n",
              "\n",
              "      let percentDone = fileData.byteLength === 0 ?\n",
              "          100 :\n",
              "          Math.round((position / fileData.byteLength) * 100);\n",
              "      percent.textContent = `${percentDone}% done`;\n",
              "\n",
              "    } while (position < fileData.byteLength);\n",
              "  }\n",
              "\n",
              "  // All done.\n",
              "  yield {\n",
              "    response: {\n",
              "      action: 'complete',\n",
              "    }\n",
              "  };\n",
              "}\n",
              "\n",
              "scope.google = scope.google || {};\n",
              "scope.google.colab = scope.google.colab || {};\n",
              "scope.google.colab._files = {\n",
              "  _uploadFiles,\n",
              "  _uploadFilesContinue,\n",
              "};\n",
              "})(self);\n",
              "</script> "
            ]
          },
          "metadata": {}
        },
        {
          "output_type": "stream",
          "name": "stdout",
          "text": [
            "Saving kaggle.json to kaggle.json\n"
          ]
        },
        {
          "output_type": "execute_result",
          "data": {
            "text/plain": [
              "{'kaggle.json': b'{\"username\":\"ericmpofu\",\"key\":\"01e29d88e1577a9f6e2cc4da5f1d40ce\"}'}"
            ]
          },
          "metadata": {},
          "execution_count": 7
        }
      ]
    },
    {
      "cell_type": "code",
      "metadata": {
        "id": "Mr19hq026V2X"
      },
      "source": [
        "!mkdir ~/.kaggle\n",
        "!cp /content/kaggle.json ~/.kaggle/\n",
        "!chmod 600 ~/.kaggle/kaggle.json"
      ],
      "execution_count": 8,
      "outputs": []
    },
    {
      "cell_type": "code",
      "metadata": {
        "colab": {
          "base_uri": "https://localhost:8080/"
        },
        "id": "B1CQcZ197jxW",
        "outputId": "9f0dea27-5019-40ee-ce77-b33bf4f97f87"
      },
      "source": [
        "!kaggle datasets list"
      ],
      "execution_count": 10,
      "outputs": [
        {
          "output_type": "stream",
          "name": "stdout",
          "text": [
            "ref                                                                  title                                             size  lastUpdated          downloadCount  voteCount  usabilityRating  \n",
            "-------------------------------------------------------------------  -----------------------------------------------  -----  -------------------  -------------  ---------  ---------------  \n",
            "shreyanshverma27/online-sales-dataset-popular-marketplace-data       Online Sales Dataset - Popular Marketplace Data    7KB  2024-05-25 23:55:26           9455        167  1.0              \n",
            "teocalvo/teomewhy-loyalty-system                                     TeoMeWhy Loyalty System                           23MB  2024-06-20 11:05:17            276        405  1.0              \n",
            "zeesolver/data-eng-salary-2024                                       Data Developer Salary in 2024💰                   108KB  2024-06-10 07:33:22           1546         25  1.0              \n",
            "sahilprajapati143/retail-analysis-large-dataset                      Retail Analysis on Large Dataset                  26MB  2024-06-14 18:32:07            905         23  1.0              \n",
            "rabieelkharoua/students-performance-dataset                          📚 Students Performance Dataset 📚                  66KB  2024-06-12 23:09:20           2041         47  1.0              \n",
            "damirdizdarevic/uefa-euro-2024-players                               UEFA EURO 2024 - Players                          15KB  2024-06-08 18:07:29           2225         50  1.0              \n",
            "artermiloff/steam-games-dataset                                      Steam Games Dataset 2024                         201MB  2024-06-17 15:37:16            725         32  1.0              \n",
            "akashnath29/lung-cancer-dataset                                      Lung Cancer Dataset                               51KB  2024-06-15 05:53:47           1121         27  0.9375           \n",
            "danghuutri/netflix-movies                                            Netflix movies                                   371KB  2024-06-15 14:33:14           1331         36  0.7058824        \n",
            "informrohit1/smartphones-dataset                                     Smartphones_Dataset                               23KB  2024-06-09 10:24:51           2632         51  1.0              \n",
            "nelgiriyewithana/most-streamed-spotify-songs-2024                    Most Streamed Spotify Songs 2024                 496KB  2024-06-15 18:50:51           1359         35  1.0              \n",
            "rabieelkharoua/cancer-prediction-dataset                             🩺📊 Cancer Prediction Dataset 🌟🔬                   47KB  2024-06-10 03:54:18           2061         47  1.0              \n",
            "rabieelkharoua/chronic-kidney-disease-dataset-analysis               🩺 Chronic Kidney Disease Dataset 🩺               473KB  2024-06-10 17:06:13            819         27  1.0              \n",
            "muhammadroshaanriaz/e-commerce-trends-a-guide-to-leveraging-dataset  Exploring E-commerce Trends⭐️⭐️⭐️                 25KB  2024-06-12 18:07:11           1772         38  1.0              \n",
            "rabieelkharoua/air-quality-and-health-impact-dataset                 🌍 Air Quality and Health Impact Dataset🌍         511KB  2024-06-12 16:36:34            892         26  1.0              \n",
            "kanchana1990/e-commerce-furniture-dataset-2024                       E-commerce Furniture Dataset 2024                 81KB  2024-06-15 19:53:22            557         32  1.0              \n",
            "anuchhetry/product-sales                                             Product Sales Dataset                            176KB  2024-06-10 10:53:17           1206         25  0.9411765        \n",
            "rashadrmammadov/heart-disease-prediction                             Heart Disease prediction                          16KB  2024-06-12 07:29:56           1264         25  1.0              \n",
            "mjdskaggle/2024-population-projections-by-country                    2024 Population Projections by Country            16KB  2024-06-05 18:45:46           1693         31  1.0              \n",
            "shreyaskeote23/india-population-data                                 India population data                             10KB  2024-06-13 06:37:26            909         22  1.0              \n"
          ]
        }
      ]
    },
    {
      "cell_type": "code",
      "metadata": {
        "colab": {
          "base_uri": "https://localhost:8080/"
        },
        "id": "jGdqJM5S-0rj",
        "outputId": "7bf70eda-a8fa-4308-eb90-6e9ce89b70f9"
      },
      "source": [
        "\n",
        "!kaggle datasets download -d skihikingkevin/pubg-match-deaths"
      ],
      "execution_count": 11,
      "outputs": [
        {
          "output_type": "stream",
          "name": "stdout",
          "text": [
            "Dataset URL: https://www.kaggle.com/datasets/skihikingkevin/pubg-match-deaths\n",
            "License(s): CC0-1.0\n",
            "Downloading pubg-match-deaths.zip to /content\n",
            "100% 4.08G/4.10G [01:29<00:00, 90.4MB/s]\n",
            "100% 4.10G/4.10G [01:29<00:00, 48.9MB/s]\n"
          ]
        }
      ]
    },
    {
      "cell_type": "code",
      "metadata": {
        "id": "J_Egs35T-7Cw",
        "colab": {
          "base_uri": "https://localhost:8080/"
        },
        "outputId": "9ddc5912-9367-41f4-8400-3ac27b3d28ca"
      },
      "source": [
        "%%writefile testutility.py\n",
        "import logging\n",
        "import os\n",
        "import subprocess\n",
        "import yaml\n",
        "import pandas as pd\n",
        "import datetime\n",
        "import gc\n",
        "import re\n",
        "\n",
        "\n",
        "################\n",
        "# File Reading #\n",
        "################\n",
        "\n",
        "def read_config_file(filepath):\n",
        "    with open(filepath, 'r') as stream:\n",
        "        try:\n",
        "            return yaml.safe_load(stream)\n",
        "        except yaml.YAMLError as exc:\n",
        "            logging.error(exc)\n",
        "\n",
        "\n",
        "def replacer(string, char):\n",
        "    pattern = char + '{2,}'\n",
        "    string = re.sub(pattern, char, string)\n",
        "    return string\n",
        "\n",
        "def col_header_val(df,table_config):\n",
        "    '''\n",
        "    replace whitespaces in the column\n",
        "    and standardized column names\n",
        "    '''\n",
        "    df.columns = df.columns.str.lower()\n",
        "    df.columns = df.columns.str.replace('[^\\w]','_',regex=True)\n",
        "    df.columns = list(map(lambda x: x.strip('_'), list(df.columns)))\n",
        "    df.columns = list(map(lambda x: replacer(x,'_'), list(df.columns)))\n",
        "    expected_col = list(map(lambda x: x.lower(),  table_config['columns']))\n",
        "    expected_col.sort()\n",
        "    df.columns =list(map(lambda x: x.lower(), list(df.columns)))\n",
        "    df = df.reindex(sorted(df.columns), axis=1)\n",
        "    if len(df.columns) == len(expected_col) and list(expected_col)  == list(df.columns):\n",
        "        print(\"column name and column length validation passed\")\n",
        "        return 1\n",
        "    else:\n",
        "        print(\"column name and column length validation failed\")\n",
        "        mismatched_columns_file = list(set(df.columns).difference(expected_col))\n",
        "        print(\"Following File columns are not in the YAML file\",mismatched_columns_file)\n",
        "        missing_YAML_file = list(set(expected_col).difference(df.columns))\n",
        "        print(\"Following YAML columns are not in the file uploaded\",missing_YAML_file)\n",
        "        logging.info(f'df columns: {df.columns}')\n",
        "        logging.info(f'expected columns: {expected_col}')\n",
        "        return 0"
      ],
      "execution_count": 12,
      "outputs": [
        {
          "output_type": "stream",
          "name": "stdout",
          "text": [
            "Writing testutility.py\n"
          ]
        }
      ]
    },
    {
      "cell_type": "code",
      "metadata": {
        "colab": {
          "base_uri": "https://localhost:8080/"
        },
        "id": "ps8uiPZ-ohwe",
        "outputId": "3f1c1648-cf4c-4553-aaa7-6a8c829da6df"
      },
      "source": [
        "%%writefile file.yaml\n",
        "file_type: csv\n",
        "dataset_name: testfile\n",
        "file_name: test\n",
        "table_name: edsurv\n",
        "inbound_delimiter: \",\"\n",
        "outbound_delimiter: \"|\"\n",
        "skip_leading_rows: 1\n",
        "columns:\n",
        "    - city\n",
        "    - price\n",
        "    - distance"
      ],
      "execution_count": 13,
      "outputs": [
        {
          "output_type": "stream",
          "name": "stdout",
          "text": [
            "Writing file.yaml\n"
          ]
        }
      ]
    },
    {
      "cell_type": "code",
      "metadata": {
        "id": "82YrMRKPonB6"
      },
      "source": [
        "# Read config file\n",
        "import testutility as util\n",
        "config_data = util.read_config_file(\"file.yaml\")"
      ],
      "execution_count": 14,
      "outputs": []
    },
    {
      "cell_type": "code",
      "metadata": {
        "colab": {
          "base_uri": "https://localhost:8080/",
          "height": 35
        },
        "id": "RswkmyCsosYw",
        "outputId": "e5661224-b9f8-4217-b9f9-905c7bdc5105"
      },
      "source": [
        "config_data['inbound_delimiter']"
      ],
      "execution_count": 15,
      "outputs": [
        {
          "output_type": "execute_result",
          "data": {
            "text/plain": [
              "','"
            ],
            "application/vnd.google.colaboratory.intrinsic+json": {
              "type": "string"
            }
          },
          "metadata": {},
          "execution_count": 15
        }
      ]
    },
    {
      "cell_type": "code",
      "metadata": {
        "colab": {
          "base_uri": "https://localhost:8080/"
        },
        "id": "JnToIEIFozDu",
        "outputId": "84dac312-7a79-4680-82b3-51ecb05f2de1"
      },
      "source": [
        "#inspecting data of config file\n",
        "config_data"
      ],
      "execution_count": 16,
      "outputs": [
        {
          "output_type": "execute_result",
          "data": {
            "text/plain": [
              "{'file_type': 'csv',\n",
              " 'dataset_name': 'testfile',\n",
              " 'file_name': 'test',\n",
              " 'table_name': 'edsurv',\n",
              " 'inbound_delimiter': ',',\n",
              " 'outbound_delimiter': '|',\n",
              " 'skip_leading_rows': 1,\n",
              " 'columns': ['city', 'price', 'distance']}"
            ]
          },
          "metadata": {},
          "execution_count": 16
        }
      ]
    },
    {
      "cell_type": "code",
      "source": [
        "import pandas as pd\n",
        "import zipfile\n",
        "import time\n",
        "\n",
        "# Define the path to the zipped file and the file within the zip\n",
        "zip_file_path = '/content/pubg-match-deaths.zip'\n",
        "file_name_within_zip = 'aggregate/agg_match_stats_0.csv'\n",
        "\n",
        "# Start the timer\n",
        "start_time = time.time()\n",
        "\n",
        "# Open the zipped file\n",
        "with zipfile.ZipFile(zip_file_path, 'r') as z:\n",
        "    # Open the specific file within the zip\n",
        "    with z.open(file_name_within_zip) as f:\n",
        "        # Read the file into a Pandas DataFrame\n",
        "        df = pd.read_csv(f)\n",
        "\n",
        "# End the timer\n",
        "end_time = time.time()\n",
        "\n",
        "# Display the DataFrame\n",
        "print(df)\n",
        "\n",
        "# Print the elapsed time\n",
        "print(f\"Elapsed time: {end_time - start_time} seconds\")\n",
        "\n"
      ],
      "metadata": {
        "colab": {
          "base_uri": "https://localhost:8080/"
        },
        "id": "82cdWFIC2u7H",
        "outputId": "83962b52-572d-4ce5-d01a-c0f660d35bc5"
      },
      "execution_count": 26,
      "outputs": [
        {
          "output_type": "stream",
          "name": "stdout",
          "text": [
            "                              date  game_size  \\\n",
            "0         2017-11-26T20:59:40+0000         37   \n",
            "1         2017-11-26T20:59:40+0000         37   \n",
            "2         2017-11-26T20:59:40+0000         37   \n",
            "3         2017-11-26T20:59:40+0000         37   \n",
            "4         2017-11-26T20:59:40+0000         37   \n",
            "...                            ...        ...   \n",
            "13849282  2018-01-04T04:12:58+0000         46   \n",
            "13849283  2018-01-04T04:12:58+0000         46   \n",
            "13849284  2018-01-04T04:12:58+0000         46   \n",
            "13849285  2018-01-04T04:12:58+0000         46   \n",
            "13849286  2018-01-04T04:12:58+0000         46   \n",
            "\n",
            "                                                   match_id match_mode  \\\n",
            "0         2U4GBNA0YmnNZYkzjkfgN4ev-hXSrak_BSey_YEG6kIuDG...        tpp   \n",
            "1         2U4GBNA0YmnNZYkzjkfgN4ev-hXSrak_BSey_YEG6kIuDG...        tpp   \n",
            "2         2U4GBNA0YmnNZYkzjkfgN4ev-hXSrak_BSey_YEG6kIuDG...        tpp   \n",
            "3         2U4GBNA0YmnNZYkzjkfgN4ev-hXSrak_BSey_YEG6kIuDG...        tpp   \n",
            "4         2U4GBNA0YmnNZYkzjkfgN4ev-hXSrak_BSey_YEG6kIuDG...        tpp   \n",
            "...                                                     ...        ...   \n",
            "13849282  2U4GBNA0YmlWc_jEcSfkfTtWimxqUoNXDijilJ0EXsIlud...        tpp   \n",
            "13849283  2U4GBNA0YmlWc_jEcSfkfTtWimxqUoNXDijilJ0EXsIlud...        tpp   \n",
            "13849284  2U4GBNA0YmlWc_jEcSfkfTtWimxqUoNXDijilJ0EXsIlud...        tpp   \n",
            "13849285  2U4GBNA0YmlWc_jEcSfkfTtWimxqUoNXDijilJ0EXsIlud...        tpp   \n",
            "13849286  2U4GBNA0YmlWc_jEcSfkfTtWimxqUoNXDijilJ0EXsIlud...        tpp   \n",
            "\n",
            "          party_size  player_assists  player_dbno  player_dist_ride  \\\n",
            "0                  2               0            1       2870.724000   \n",
            "1                  2               0            1       2938.407230   \n",
            "2                  2               0            0          0.000000   \n",
            "3                  2               0            0          0.000000   \n",
            "4                  2               0            0       2619.077390   \n",
            "...              ...             ...          ...               ...   \n",
            "13849282           2               1            1          0.000000   \n",
            "13849283           2               0            0        592.562439   \n",
            "13849284           2               0            1        900.445100   \n",
            "13849285           2               0            1          0.000000   \n",
            "13849286           2               0            1          0.000000   \n",
            "\n",
            "          player_dist_walk  player_dmg  player_kills     player_name  \\\n",
            "0              1784.847780         117             1        SnuffIes   \n",
            "1              1756.079710         127             1          Ozon3r   \n",
            "2               224.157562          67             0          bovize   \n",
            "3                92.935150           0             0         sbahn87   \n",
            "4              2510.447000         175             2       GeminiZZZ   \n",
            "...                    ...         ...           ...             ...   \n",
            "13849282        107.555237         187             0        YoungPee   \n",
            "13849283        571.859300          51             0  KnightShade_13   \n",
            "13849284        454.024000          73             1     XxXRynumXxX   \n",
            "13849285         36.453487          99             1     Unknown0311   \n",
            "13849286        304.118866         200             2      DoctorHrmm   \n",
            "\n",
            "          player_survive_time  team_id  team_placement  \n",
            "0                    1106.320        4              18  \n",
            "1                    1106.315        4              18  \n",
            "2                     235.558        5              33  \n",
            "3                     197.553        5              33  \n",
            "4                    1537.495       14              11  \n",
            "...                       ...      ...             ...  \n",
            "13849282              174.608       20              39  \n",
            "13849283              355.901       31              29  \n",
            "13849284              355.896       31              29  \n",
            "13849285              128.873       35              32  \n",
            "13849286              299.494       35              32  \n",
            "\n",
            "[13849287 rows x 15 columns]\n",
            "Elapsed time: 98.28285765647888 seconds\n"
          ]
        }
      ]
    },
    {
      "cell_type": "code",
      "metadata": {
        "colab": {
          "base_uri": "https://localhost:8080/"
        },
        "id": "rLX7gUIQnDsK",
        "outputId": "85d4fa24-076d-41e9-8ddd-6a8496838890"
      },
      "source": [
        "!pip install dask[dataframe]"
      ],
      "execution_count": 20,
      "outputs": [
        {
          "output_type": "stream",
          "name": "stdout",
          "text": [
            "Requirement already satisfied: dask[dataframe] in /usr/local/lib/python3.10/dist-packages (2023.8.1)\n",
            "Requirement already satisfied: click>=8.0 in /usr/local/lib/python3.10/dist-packages (from dask[dataframe]) (8.1.7)\n",
            "Requirement already satisfied: cloudpickle>=1.5.0 in /usr/local/lib/python3.10/dist-packages (from dask[dataframe]) (2.2.1)\n",
            "Requirement already satisfied: fsspec>=2021.09.0 in /usr/local/lib/python3.10/dist-packages (from dask[dataframe]) (2023.6.0)\n",
            "Requirement already satisfied: packaging>=20.0 in /usr/local/lib/python3.10/dist-packages (from dask[dataframe]) (24.1)\n",
            "Requirement already satisfied: partd>=1.2.0 in /usr/local/lib/python3.10/dist-packages (from dask[dataframe]) (1.4.2)\n",
            "Requirement already satisfied: pyyaml>=5.3.1 in /usr/local/lib/python3.10/dist-packages (from dask[dataframe]) (6.0.1)\n",
            "Requirement already satisfied: toolz>=0.10.0 in /usr/local/lib/python3.10/dist-packages (from dask[dataframe]) (0.12.1)\n",
            "Requirement already satisfied: importlib-metadata>=4.13.0 in /usr/local/lib/python3.10/dist-packages (from dask[dataframe]) (7.1.0)\n",
            "Requirement already satisfied: pandas>=1.3 in /usr/local/lib/python3.10/dist-packages (from dask[dataframe]) (2.0.3)\n",
            "Requirement already satisfied: zipp>=0.5 in /usr/local/lib/python3.10/dist-packages (from importlib-metadata>=4.13.0->dask[dataframe]) (3.19.2)\n",
            "Requirement already satisfied: python-dateutil>=2.8.2 in /usr/local/lib/python3.10/dist-packages (from pandas>=1.3->dask[dataframe]) (2.8.2)\n",
            "Requirement already satisfied: pytz>=2020.1 in /usr/local/lib/python3.10/dist-packages (from pandas>=1.3->dask[dataframe]) (2023.4)\n",
            "Requirement already satisfied: tzdata>=2022.1 in /usr/local/lib/python3.10/dist-packages (from pandas>=1.3->dask[dataframe]) (2024.1)\n",
            "Requirement already satisfied: numpy>=1.21.0 in /usr/local/lib/python3.10/dist-packages (from pandas>=1.3->dask[dataframe]) (1.25.2)\n",
            "Requirement already satisfied: locket in /usr/local/lib/python3.10/dist-packages (from partd>=1.2.0->dask[dataframe]) (1.0.0)\n",
            "Requirement already satisfied: six>=1.5 in /usr/local/lib/python3.10/dist-packages (from python-dateutil>=2.8.2->pandas>=1.3->dask[dataframe]) (1.16.0)\n"
          ]
        }
      ]
    },
    {
      "cell_type": "code",
      "metadata": {
        "id": "qgyIkFUimcoZ"
      },
      "source": [
        "import os\n",
        "import dask.dataframe as dd\n",
        "\n",
        "\n",
        "import warnings\n",
        "warnings.filterwarnings(action=\"ignore\")"
      ],
      "execution_count": 21,
      "outputs": []
    },
    {
      "cell_type": "code",
      "metadata": {
        "colab": {
          "base_uri": "https://localhost:8080/"
        },
        "id": "SgrFSBaAYk8B",
        "outputId": "6318c2b2-f5be-41c6-8af4-ebeeb207dc73"
      },
      "source": [
        "import dask.dataframe as dd\n",
        "import zipfile\n",
        "import time\n",
        "import os\n",
        "import tempfile\n",
        "\n",
        "# Define the path to the zipped file and the file within the zip\n",
        "zip_file_path = '/content/pubg-match-deaths.zip'\n",
        "file_name_within_zip = 'aggregate/agg_match_stats_0.csv'\n",
        "\n",
        "# Start the timer\n",
        "start_time = time.time()\n",
        "\n",
        "# Create a temporary directory\n",
        "with tempfile.TemporaryDirectory() as temp_dir:\n",
        "    # Extract the specific file within the zip to the temporary directory\n",
        "    with zipfile.ZipFile(zip_file_path, 'r') as z:\n",
        "        z.extract(file_name_within_zip, path=temp_dir)\n",
        "\n",
        "    # Construct the path to the extracted file\n",
        "    extracted_file_path = os.path.join(temp_dir, file_name_within_zip)\n",
        "\n",
        "    # Read the extracted file into a Dask DataFrame, specifying dtypes\n",
        "    df = dd.read_csv(extracted_file_path, dtype={'Cabin': 'object'})\n",
        "\n",
        "    # Compute and display the DataFrame (this triggers actual computation)\n",
        "    df_head = df.head()\n",
        "    print(df_head)\n",
        "\n",
        "    # End the timer\n",
        "    end_time = time.time()\n",
        "\n",
        "    # Print the elapsed time\n",
        "    print(f\"Elapsed time: {end_time - start_time} seconds\")\n",
        "    print(f'Number of Rows: {len(df)}, Number of Columns: {len(df.columns)}')\n"
      ],
      "execution_count": 27,
      "outputs": [
        {
          "metadata": {
            "tags": null
          },
          "name": "stdout",
          "output_type": "stream",
          "text": [
            "                       date  game_size  \\\n",
            "0  2017-11-26T20:59:40+0000         37   \n",
            "1  2017-11-26T20:59:40+0000         37   \n",
            "2  2017-11-26T20:59:40+0000         37   \n",
            "3  2017-11-26T20:59:40+0000         37   \n",
            "4  2017-11-26T20:59:40+0000         37   \n",
            "\n",
            "                                            match_id match_mode  party_size  \\\n",
            "0  2U4GBNA0YmnNZYkzjkfgN4ev-hXSrak_BSey_YEG6kIuDG...        tpp           2   \n",
            "1  2U4GBNA0YmnNZYkzjkfgN4ev-hXSrak_BSey_YEG6kIuDG...        tpp           2   \n",
            "2  2U4GBNA0YmnNZYkzjkfgN4ev-hXSrak_BSey_YEG6kIuDG...        tpp           2   \n",
            "3  2U4GBNA0YmnNZYkzjkfgN4ev-hXSrak_BSey_YEG6kIuDG...        tpp           2   \n",
            "4  2U4GBNA0YmnNZYkzjkfgN4ev-hXSrak_BSey_YEG6kIuDG...        tpp           2   \n",
            "\n",
            "   player_assists  player_dbno  player_dist_ride  player_dist_walk  \\\n",
            "0               0            1        2870.72400       1784.847780   \n",
            "1               0            1        2938.40723       1756.079710   \n",
            "2               0            0           0.00000        224.157562   \n",
            "3               0            0           0.00000         92.935150   \n",
            "4               0            0        2619.07739       2510.447000   \n",
            "\n",
            "   player_dmg  player_kills player_name  player_survive_time  team_id  \\\n",
            "0         117             1    SnuffIes             1106.320        4   \n",
            "1         127             1      Ozon3r             1106.315        4   \n",
            "2          67             0      bovize              235.558        5   \n",
            "3           0             0     sbahn87              197.553        5   \n",
            "4         175             2   GeminiZZZ             1537.495       14   \n",
            "\n",
            "   team_placement  \n",
            "0              18  \n",
            "1              18  \n",
            "2              33  \n",
            "3              33  \n",
            "4              11  \n",
            "Elapsed time: 36.85565114021301 seconds\n",
            "Number of Rows: 13849287, Number of Columns: 15\n"
          ]
        }
      ]
    },
    {
      "cell_type": "code",
      "source": [
        "pip install ray"
      ],
      "metadata": {
        "colab": {
          "base_uri": "https://localhost:8080/"
        },
        "id": "TbvxhDp--A7O",
        "outputId": "163e4b8d-31f0-4967-ac4d-d11fcdf4cf83"
      },
      "execution_count": 19,
      "outputs": [
        {
          "output_type": "stream",
          "name": "stdout",
          "text": [
            "Collecting ray\n",
            "  Downloading ray-2.24.0-cp310-cp310-manylinux2014_x86_64.whl (65.9 MB)\n",
            "\u001b[2K     \u001b[90m━━━━━━━━━━━━━━━━━━━━━━━━━━━━━━━━━━━━━━━━\u001b[0m \u001b[32m65.9/65.9 MB\u001b[0m \u001b[31m8.5 MB/s\u001b[0m eta \u001b[36m0:00:00\u001b[0m\n",
            "\u001b[?25hRequirement already satisfied: click>=7.0 in /usr/local/lib/python3.10/dist-packages (from ray) (8.1.7)\n",
            "Requirement already satisfied: filelock in /usr/local/lib/python3.10/dist-packages (from ray) (3.15.1)\n",
            "Requirement already satisfied: jsonschema in /usr/local/lib/python3.10/dist-packages (from ray) (4.19.2)\n",
            "Requirement already satisfied: msgpack<2.0.0,>=1.0.0 in /usr/local/lib/python3.10/dist-packages (from ray) (1.0.8)\n",
            "Requirement already satisfied: packaging in /usr/local/lib/python3.10/dist-packages (from ray) (24.1)\n",
            "Requirement already satisfied: protobuf!=3.19.5,>=3.15.3 in /usr/local/lib/python3.10/dist-packages (from ray) (3.20.3)\n",
            "Requirement already satisfied: pyyaml in /usr/local/lib/python3.10/dist-packages (from ray) (6.0.1)\n",
            "Requirement already satisfied: aiosignal in /usr/local/lib/python3.10/dist-packages (from ray) (1.3.1)\n",
            "Requirement already satisfied: frozenlist in /usr/local/lib/python3.10/dist-packages (from ray) (1.4.1)\n",
            "Requirement already satisfied: requests in /usr/local/lib/python3.10/dist-packages (from ray) (2.31.0)\n",
            "Requirement already satisfied: attrs>=22.2.0 in /usr/local/lib/python3.10/dist-packages (from jsonschema->ray) (23.2.0)\n",
            "Requirement already satisfied: jsonschema-specifications>=2023.03.6 in /usr/local/lib/python3.10/dist-packages (from jsonschema->ray) (2023.12.1)\n",
            "Requirement already satisfied: referencing>=0.28.4 in /usr/local/lib/python3.10/dist-packages (from jsonschema->ray) (0.35.1)\n",
            "Requirement already satisfied: rpds-py>=0.7.1 in /usr/local/lib/python3.10/dist-packages (from jsonschema->ray) (0.18.1)\n",
            "Requirement already satisfied: charset-normalizer<4,>=2 in /usr/local/lib/python3.10/dist-packages (from requests->ray) (3.3.2)\n",
            "Requirement already satisfied: idna<4,>=2.5 in /usr/local/lib/python3.10/dist-packages (from requests->ray) (3.7)\n",
            "Requirement already satisfied: urllib3<3,>=1.21.1 in /usr/local/lib/python3.10/dist-packages (from requests->ray) (2.0.7)\n",
            "Requirement already satisfied: certifi>=2017.4.17 in /usr/local/lib/python3.10/dist-packages (from requests->ray) (2024.6.2)\n",
            "Installing collected packages: ray\n",
            "Successfully installed ray-2.24.0\n"
          ]
        }
      ]
    },
    {
      "cell_type": "code",
      "source": [
        "import ray\n",
        "import time\n",
        "import zipfile\n",
        "import os\n",
        "\n",
        "ray.init()\n",
        "\n",
        "# Define the path to the zipped file and the file within the zip\n",
        "zip_file_path = '/content/pubg-match-deaths.zip'\n",
        "file_name_within_zip = 'aggregate/agg_match_stats_0.csv'\n",
        "# Start the timer\n",
        "start_time = time.time()\n",
        "\n",
        "# Define a remote function to read the CSV file\n",
        "@ray.remote\n",
        "def read_csv_remote(file_path):\n",
        "    import pandas as pd\n",
        "    with zipfile.ZipFile(file_path, 'r') as z:\n",
        "        with z.open(file_name_within_zip) as f:\n",
        "            df = pd.read_csv(f)\n",
        "    return df\n",
        "\n",
        "# Execute the remote function asynchronously\n",
        "df_remote = read_csv_remote.remote(zip_file_path)\n",
        "\n",
        "# Wait for the result\n",
        "df = ray.get(df_remote)\n",
        "\n",
        "# End the timer\n",
        "end_time = time.time()\n",
        "\n",
        "# Display the DataFrame\n",
        "print(df)\n",
        "\n",
        "# Print the elapsed time\n",
        "print(f\"Elapsed time: {end_time - start_time} seconds\")\n",
        "ray.shutdown()"
      ],
      "metadata": {
        "colab": {
          "base_uri": "https://localhost:8080/"
        },
        "id": "5MYo9ORr9-Rs",
        "outputId": "fcdd75cb-b456-40c2-bf86-9b27961f28cf"
      },
      "execution_count": 24,
      "outputs": [
        {
          "output_type": "stream",
          "name": "stderr",
          "text": [
            "2024-06-20 19:28:28,729\tINFO worker.py:1753 -- Started a local Ray instance.\n"
          ]
        },
        {
          "output_type": "stream",
          "name": "stdout",
          "text": [
            "                              date  game_size  \\\n",
            "0         2017-11-26T20:59:40+0000         37   \n",
            "1         2017-11-26T20:59:40+0000         37   \n",
            "2         2017-11-26T20:59:40+0000         37   \n",
            "3         2017-11-26T20:59:40+0000         37   \n",
            "4         2017-11-26T20:59:40+0000         37   \n",
            "...                            ...        ...   \n",
            "13849282  2018-01-04T04:12:58+0000         46   \n",
            "13849283  2018-01-04T04:12:58+0000         46   \n",
            "13849284  2018-01-04T04:12:58+0000         46   \n",
            "13849285  2018-01-04T04:12:58+0000         46   \n",
            "13849286  2018-01-04T04:12:58+0000         46   \n",
            "\n",
            "                                                   match_id match_mode  \\\n",
            "0         2U4GBNA0YmnNZYkzjkfgN4ev-hXSrak_BSey_YEG6kIuDG...        tpp   \n",
            "1         2U4GBNA0YmnNZYkzjkfgN4ev-hXSrak_BSey_YEG6kIuDG...        tpp   \n",
            "2         2U4GBNA0YmnNZYkzjkfgN4ev-hXSrak_BSey_YEG6kIuDG...        tpp   \n",
            "3         2U4GBNA0YmnNZYkzjkfgN4ev-hXSrak_BSey_YEG6kIuDG...        tpp   \n",
            "4         2U4GBNA0YmnNZYkzjkfgN4ev-hXSrak_BSey_YEG6kIuDG...        tpp   \n",
            "...                                                     ...        ...   \n",
            "13849282  2U4GBNA0YmlWc_jEcSfkfTtWimxqUoNXDijilJ0EXsIlud...        tpp   \n",
            "13849283  2U4GBNA0YmlWc_jEcSfkfTtWimxqUoNXDijilJ0EXsIlud...        tpp   \n",
            "13849284  2U4GBNA0YmlWc_jEcSfkfTtWimxqUoNXDijilJ0EXsIlud...        tpp   \n",
            "13849285  2U4GBNA0YmlWc_jEcSfkfTtWimxqUoNXDijilJ0EXsIlud...        tpp   \n",
            "13849286  2U4GBNA0YmlWc_jEcSfkfTtWimxqUoNXDijilJ0EXsIlud...        tpp   \n",
            "\n",
            "          party_size  player_assists  player_dbno  player_dist_ride  \\\n",
            "0                  2               0            1       2870.724000   \n",
            "1                  2               0            1       2938.407230   \n",
            "2                  2               0            0          0.000000   \n",
            "3                  2               0            0          0.000000   \n",
            "4                  2               0            0       2619.077390   \n",
            "...              ...             ...          ...               ...   \n",
            "13849282           2               1            1          0.000000   \n",
            "13849283           2               0            0        592.562439   \n",
            "13849284           2               0            1        900.445100   \n",
            "13849285           2               0            1          0.000000   \n",
            "13849286           2               0            1          0.000000   \n",
            "\n",
            "          player_dist_walk  player_dmg  player_kills     player_name  \\\n",
            "0              1784.847780         117             1        SnuffIes   \n",
            "1              1756.079710         127             1          Ozon3r   \n",
            "2               224.157562          67             0          bovize   \n",
            "3                92.935150           0             0         sbahn87   \n",
            "4              2510.447000         175             2       GeminiZZZ   \n",
            "...                    ...         ...           ...             ...   \n",
            "13849282        107.555237         187             0        YoungPee   \n",
            "13849283        571.859300          51             0  KnightShade_13   \n",
            "13849284        454.024000          73             1     XxXRynumXxX   \n",
            "13849285         36.453487          99             1     Unknown0311   \n",
            "13849286        304.118866         200             2      DoctorHrmm   \n",
            "\n",
            "          player_survive_time  team_id  team_placement  \n",
            "0                    1106.320        4              18  \n",
            "1                    1106.315        4              18  \n",
            "2                     235.558        5              33  \n",
            "3                     197.553        5              33  \n",
            "4                    1537.495       14              11  \n",
            "...                       ...      ...             ...  \n",
            "13849282              174.608       20              39  \n",
            "13849283              355.901       31              29  \n",
            "13849284              355.896       31              29  \n",
            "13849285              128.873       35              32  \n",
            "13849286              299.494       35              32  \n",
            "\n",
            "[13849287 rows x 15 columns]\n",
            "Elapsed time: 113.33721208572388 seconds\n"
          ]
        }
      ]
    },
    {
      "cell_type": "code",
      "metadata": {
        "id": "xTbn0C9HtDF8"
      },
      "source": [],
      "execution_count": null,
      "outputs": []
    }
  ]
}